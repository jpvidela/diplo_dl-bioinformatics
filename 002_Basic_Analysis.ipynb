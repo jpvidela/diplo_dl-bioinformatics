{
 "cells": [
  {
   "cell_type": "code",
   "execution_count": 1,
   "id": "21bee0a3-79a7-43b2-9ac2-15cad5630e22",
   "metadata": {},
   "outputs": [],
   "source": [
    "import pandas as pd"
   ]
  },
  {
   "cell_type": "markdown",
   "id": "aa9aa751-fd2f-4850-9b55-f9ccb446aa5d",
   "metadata": {},
   "source": [
    "# Analisis básico\n",
    "\n",
    "En esta notebook se hace un análisis muy básico de la data\n",
    "\n",
    "No tiene que hacer nada más que entenderla"
   ]
  },
  {
   "cell_type": "code",
   "execution_count": 2,
   "id": "353a2d75-f0f4-4563-9842-c68d77118161",
   "metadata": {},
   "outputs": [],
   "source": [
    "df = pd.read_csv('data/acetylcholinesterase_02_bioactivity_data_preprocessed.csv')"
   ]
  },
  {
   "cell_type": "code",
   "execution_count": 3,
   "id": "d1554fa5-d9ee-456c-be20-80571e319fc6",
   "metadata": {},
   "outputs": [
    {
     "data": {
      "text/html": [
       "<div>\n",
       "<style scoped>\n",
       "    .dataframe tbody tr th:only-of-type {\n",
       "        vertical-align: middle;\n",
       "    }\n",
       "\n",
       "    .dataframe tbody tr th {\n",
       "        vertical-align: top;\n",
       "    }\n",
       "\n",
       "    .dataframe thead th {\n",
       "        text-align: right;\n",
       "    }\n",
       "</style>\n",
       "<table border=\"1\" class=\"dataframe\">\n",
       "  <thead>\n",
       "    <tr style=\"text-align: right;\">\n",
       "      <th></th>\n",
       "      <th>molecule_chembl_id</th>\n",
       "      <th>canonical_smiles</th>\n",
       "      <th>standard_value</th>\n",
       "      <th>standard_value_norm</th>\n",
       "      <th>pIC50</th>\n",
       "    </tr>\n",
       "  </thead>\n",
       "  <tbody>\n",
       "    <tr>\n",
       "      <th>0</th>\n",
       "      <td>CHEMBL133897</td>\n",
       "      <td>CCOc1nn(-c2cccc(OCc3ccccc3)c2)c(=O)o1</td>\n",
       "      <td>750.0</td>\n",
       "      <td>750.0</td>\n",
       "      <td>6.124939</td>\n",
       "    </tr>\n",
       "    <tr>\n",
       "      <th>1</th>\n",
       "      <td>CHEMBL336398</td>\n",
       "      <td>O=C(N1CCCCC1)n1nc(-c2ccc(Cl)cc2)nc1SCC1CC1</td>\n",
       "      <td>100.0</td>\n",
       "      <td>100.0</td>\n",
       "      <td>7.000000</td>\n",
       "    </tr>\n",
       "    <tr>\n",
       "      <th>2</th>\n",
       "      <td>CHEMBL131588</td>\n",
       "      <td>CN(C(=O)n1nc(-c2ccc(Cl)cc2)nc1SCC(F)(F)F)c1ccccc1</td>\n",
       "      <td>50000.0</td>\n",
       "      <td>50000.0</td>\n",
       "      <td>4.301030</td>\n",
       "    </tr>\n",
       "    <tr>\n",
       "      <th>3</th>\n",
       "      <td>CHEMBL130628</td>\n",
       "      <td>O=C(N1CCCCC1)n1nc(-c2ccc(Cl)cc2)nc1SCC(F)(F)F</td>\n",
       "      <td>300.0</td>\n",
       "      <td>300.0</td>\n",
       "      <td>6.522879</td>\n",
       "    </tr>\n",
       "    <tr>\n",
       "      <th>4</th>\n",
       "      <td>CHEMBL130478</td>\n",
       "      <td>CSc1nc(-c2ccc(OC(F)(F)F)cc2)nn1C(=O)N(C)C</td>\n",
       "      <td>800.0</td>\n",
       "      <td>800.0</td>\n",
       "      <td>6.096910</td>\n",
       "    </tr>\n",
       "    <tr>\n",
       "      <th>...</th>\n",
       "      <td>...</td>\n",
       "      <td>...</td>\n",
       "      <td>...</td>\n",
       "      <td>...</td>\n",
       "      <td>...</td>\n",
       "    </tr>\n",
       "    <tr>\n",
       "      <th>5659</th>\n",
       "      <td>CHEMBL4779440</td>\n",
       "      <td>Brc1ccc([N+]2=Cc3ccccc3CC2)cc1.[Br-]</td>\n",
       "      <td>10500.0</td>\n",
       "      <td>10500.0</td>\n",
       "      <td>4.978811</td>\n",
       "    </tr>\n",
       "    <tr>\n",
       "      <th>5660</th>\n",
       "      <td>CHEMBL417799</td>\n",
       "      <td>C[n+]1cc2c3c(ccc2c2ccc4cc5c(cc4c21)OCO5)OCO3</td>\n",
       "      <td>1220.0</td>\n",
       "      <td>1220.0</td>\n",
       "      <td>5.913640</td>\n",
       "    </tr>\n",
       "    <tr>\n",
       "      <th>5661</th>\n",
       "      <td>CHEMBL13045</td>\n",
       "      <td>COc1ccc2c(c[n+](C)c3c4cc5c(cc4ccc23)OCO5)c1OC</td>\n",
       "      <td>1450.0</td>\n",
       "      <td>1450.0</td>\n",
       "      <td>5.838632</td>\n",
       "    </tr>\n",
       "    <tr>\n",
       "      <th>5662</th>\n",
       "      <td>CHEMBL3085398</td>\n",
       "      <td>C=CC(C)(C)c1cc([C@@H]2CC(=O)c3c(O)cc(O)c(CC=C(...</td>\n",
       "      <td>28980.0</td>\n",
       "      <td>28980.0</td>\n",
       "      <td>4.537902</td>\n",
       "    </tr>\n",
       "    <tr>\n",
       "      <th>5663</th>\n",
       "      <td>CHEMBL253998</td>\n",
       "      <td>CC(C)=CCc1c(O)cc(O)c2c1O[C@H](c1ccccc1)CC2=O</td>\n",
       "      <td>6.4</td>\n",
       "      <td>6.4</td>\n",
       "      <td>8.193820</td>\n",
       "    </tr>\n",
       "  </tbody>\n",
       "</table>\n",
       "<p>5664 rows × 5 columns</p>\n",
       "</div>"
      ],
      "text/plain": [
       "     molecule_chembl_id                                   canonical_smiles  \\\n",
       "0          CHEMBL133897              CCOc1nn(-c2cccc(OCc3ccccc3)c2)c(=O)o1   \n",
       "1          CHEMBL336398         O=C(N1CCCCC1)n1nc(-c2ccc(Cl)cc2)nc1SCC1CC1   \n",
       "2          CHEMBL131588  CN(C(=O)n1nc(-c2ccc(Cl)cc2)nc1SCC(F)(F)F)c1ccccc1   \n",
       "3          CHEMBL130628      O=C(N1CCCCC1)n1nc(-c2ccc(Cl)cc2)nc1SCC(F)(F)F   \n",
       "4          CHEMBL130478          CSc1nc(-c2ccc(OC(F)(F)F)cc2)nn1C(=O)N(C)C   \n",
       "...                 ...                                                ...   \n",
       "5659      CHEMBL4779440               Brc1ccc([N+]2=Cc3ccccc3CC2)cc1.[Br-]   \n",
       "5660       CHEMBL417799       C[n+]1cc2c3c(ccc2c2ccc4cc5c(cc4c21)OCO5)OCO3   \n",
       "5661        CHEMBL13045      COc1ccc2c(c[n+](C)c3c4cc5c(cc4ccc23)OCO5)c1OC   \n",
       "5662      CHEMBL3085398  C=CC(C)(C)c1cc([C@@H]2CC(=O)c3c(O)cc(O)c(CC=C(...   \n",
       "5663       CHEMBL253998       CC(C)=CCc1c(O)cc(O)c2c1O[C@H](c1ccccc1)CC2=O   \n",
       "\n",
       "      standard_value  standard_value_norm     pIC50  \n",
       "0              750.0                750.0  6.124939  \n",
       "1              100.0                100.0  7.000000  \n",
       "2            50000.0              50000.0  4.301030  \n",
       "3              300.0                300.0  6.522879  \n",
       "4              800.0                800.0  6.096910  \n",
       "...              ...                  ...       ...  \n",
       "5659         10500.0              10500.0  4.978811  \n",
       "5660          1220.0               1220.0  5.913640  \n",
       "5661          1450.0               1450.0  5.838632  \n",
       "5662         28980.0              28980.0  4.537902  \n",
       "5663             6.4                  6.4  8.193820  \n",
       "\n",
       "[5664 rows x 5 columns]"
      ]
     },
     "execution_count": 3,
     "metadata": {},
     "output_type": "execute_result"
    }
   ],
   "source": [
    "df"
   ]
  },
  {
   "cell_type": "code",
   "execution_count": 4,
   "id": "e515bba8-44bd-4282-8ca7-22fb0f85512a",
   "metadata": {},
   "outputs": [
    {
     "data": {
      "text/plain": [
       "(5664,)"
      ]
     },
     "execution_count": 4,
     "metadata": {},
     "output_type": "execute_result"
    }
   ],
   "source": [
    "df['molecule_chembl_id'].unique().shape"
   ]
  },
  {
   "cell_type": "code",
   "execution_count": 5,
   "id": "13d99f40-3ff5-4dbe-82d7-7a79887b94ee",
   "metadata": {},
   "outputs": [
    {
     "data": {
      "text/plain": [
       "(5888436553555884.0, 0.0)"
      ]
     },
     "execution_count": 5,
     "metadata": {},
     "output_type": "execute_result"
    }
   ],
   "source": [
    "# Rango dinámico del standar value\n",
    "df['standard_value'].max(), df['standard_value'].min()"
   ]
  },
  {
   "cell_type": "markdown",
   "id": "4b6307bc-a988-4567-be8b-6db9c00f02b0",
   "metadata": {},
   "source": [
    "# Histograma de longitudes de los smiles"
   ]
  },
  {
   "cell_type": "code",
   "execution_count": 6,
   "id": "dec11d6a-d013-4dfa-92d8-67fd946930d1",
   "metadata": {},
   "outputs": [],
   "source": [
    "df['canonical_len'] = df['canonical_smiles'].apply(lambda x: len(x))"
   ]
  },
  {
   "cell_type": "code",
   "execution_count": 8,
   "id": "d186855f-d637-4974-a556-3821f3d8b6ce",
   "metadata": {},
   "outputs": [
    {
     "data": {
      "text/plain": [
       "<AxesSubplot:>"
      ]
     },
     "execution_count": 8,
     "metadata": {},
     "output_type": "execute_result"
    },
    {
     "data": {
      "image/png": "[encoded data removed]",
      "text/plain": [
       "<Figure size 432x288 with 1 Axes>"
      ]
     },
     "metadata": {
      "needs_background": "light"
     },
     "output_type": "display_data"
    }
   ],
   "source": [
    "df['canonical_len'].hist(bins=100)"
   ]
  },
  {
   "cell_type": "code",
   "execution_count": 9,
   "id": "2848e41c-9885-4acc-9f3d-04b8da128b26",
   "metadata": {},
   "outputs": [
    {
     "data": {
      "text/plain": [
       "(207, 7)"
      ]
     },
     "execution_count": 9,
     "metadata": {},
     "output_type": "execute_result"
    }
   ],
   "source": [
    "# Max y min \n",
    "max_sequence_len = df['canonical_len'].max()\n",
    "max_sequence_len, df['canonical_len'].min()"
   ]
  },
  {
   "cell_type": "code",
   "execution_count": 10,
   "id": "f1c7c02a-e270-4f5c-9d94-aacbd69cf83f",
   "metadata": {},
   "outputs": [],
   "source": [
    "max_len_idx = df['canonical_len'].argmax()\n",
    "min_len_idx = df['canonical_len'].argmin()"
   ]
  },
  {
   "cell_type": "code",
   "execution_count": 11,
   "id": "9ee6dd0f-0747-45d7-8db1-4e54432c4194",
   "metadata": {},
   "outputs": [
    {
     "data": {
      "text/plain": [
       "'C[C@@]12CC[C@H]3[C@]4(C)CCC[C@@]5(C)C(=O)OCC[N+](C)(C)CCCCCCCCC[N+](C)(C)CCOC(=O)[C@]6(C)CCC[C@]7(C)[C@@H]6CC[C@@]68C[C@@H](OC(=O)CCCCCCCCC(=O)O[C@@H]1C[C@@]3(CC[C@@H]45)C2)[C@@](C)(CC[C@@H]76)C8.[Br-].[Br-]'"
      ]
     },
     "execution_count": 11,
     "metadata": {},
     "output_type": "execute_result"
    }
   ],
   "source": [
    "# Ejemplo de molécula más larga\n",
    "df.iloc[max_len_idx].canonical_smiles"
   ]
  },
  {
   "cell_type": "code",
   "execution_count": 12,
   "id": "caae7cd4-f577-4c69-a0a4-303a5128ad9f",
   "metadata": {},
   "outputs": [
    {
     "data": {
      "text/plain": [
       "'NC(=O)O'"
      ]
     },
     "execution_count": 12,
     "metadata": {},
     "output_type": "execute_result"
    }
   ],
   "source": [
    "# Ejemplo de molécula más corta\n",
    "df.iloc[min_len_idx].canonical_smiles"
   ]
  },
  {
   "cell_type": "markdown",
   "id": "f46ed6b3-3f45-40e3-8bf9-da06e4bc2e9c",
   "metadata": {},
   "source": [
    "# Histograma de caracteres"
   ]
  },
  {
   "cell_type": "code",
   "execution_count": 13,
   "id": "951529f1-3cda-40e9-9b1c-be315f2ae08e",
   "metadata": {},
   "outputs": [],
   "source": [
    "from collections import Counter"
   ]
  },
  {
   "cell_type": "code",
   "execution_count": 14,
   "id": "95aad541-2462-406d-b7c6-d0595bcecda7",
   "metadata": {},
   "outputs": [],
   "source": [
    "text = ''\n",
    "for cs in df['canonical_smiles']:\n",
    "    text = text + cs"
   ]
  },
  {
   "cell_type": "code",
   "execution_count": 15,
   "id": "f691c7b7-aa73-4371-9b57-cca97faeedfd",
   "metadata": {},
   "outputs": [],
   "source": [
    "vocab_hist = dict(Counter(text))"
   ]
  },
  {
   "cell_type": "code",
   "execution_count": 16,
   "id": "549c46bb-a16f-4449-a215-048bc64eb3a9",
   "metadata": {},
   "outputs": [
    {
     "data": {
      "text/plain": [
       "{'C': 62301,\n",
       " 'O': 14009,\n",
       " 'c': 72788,\n",
       " '1': 16670,\n",
       " 'n': 4542,\n",
       " '(': 23475,\n",
       " '-': 2147,\n",
       " '2': 13334,\n",
       " '3': 8201,\n",
       " ')': 23475,\n",
       " '=': 8658,\n",
       " 'o': 779,\n",
       " 'N': 10359,\n",
       " 'l': 1548,\n",
       " 'S': 628,\n",
       " 'F': 1162,\n",
       " '[': 6001,\n",
       " '@': 4527,\n",
       " 'H': 2456,\n",
       " ']': 6001,\n",
       " '/': 1817,\n",
       " '\\\\': 373,\n",
       " '+': 1297,\n",
       " '.': 1317,\n",
       " 'B': 706,\n",
       " 'r': 682,\n",
       " '4': 3420,\n",
       " '#': 366,\n",
       " 'I': 109,\n",
       " 's': 270,\n",
       " '5': 972,\n",
       " '6': 230,\n",
       " 'P': 34,\n",
       " 'a': 1,\n",
       " '7': 18,\n",
       " '8': 6,\n",
       " 'e': 35,\n",
       " 'i': 2}"
      ]
     },
     "execution_count": 16,
     "metadata": {},
     "output_type": "execute_result"
    }
   ],
   "source": [
    "vocab_hist"
   ]
  }
 ],
 "metadata": {
  "kernelspec": {
   "display_name": "Python 3.10.5 ('venv': venv)",
   "language": "python",
   "name": "python3"
  },
  "language_info": {
   "codemirror_mode": {
    "name": "ipython",
    "version": 3
   },
   "file_extension": ".py",
   "mimetype": "text/x-python",
   "name": "python",
   "nbconvert_exporter": "python",
   "pygments_lexer": "ipython3",
   "version": "3.10.5"
  },
  "vscode": {
   "interpreter": {
    "hash": "bbe4235f4236b91295c68c13b71b930b66233a56dd086854f6cc55fc9df82dd3"
   }
  }
 },
 "nbformat": 4,
 "nbformat_minor": 5
}
